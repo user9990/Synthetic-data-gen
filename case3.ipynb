{
  "nbformat": 4,
  "nbformat_minor": 0,
  "metadata": {
    "colab": {
      "name": "case3.ipynb",
      "provenance": [],
      "authorship_tag": "ABX9TyNgSeRpZwhXrykxbx9otnL7",
      "include_colab_link": true
    },
    "kernelspec": {
      "name": "python3",
      "display_name": "Python 3"
    }
  },
  "cells": [
    {
      "cell_type": "markdown",
      "metadata": {
        "id": "view-in-github",
        "colab_type": "text"
      },
      "source": [
        "<a href=\"https://colab.research.google.com/github/user9990/Synthetic-data-gen/blob/master/case3.ipynb\" target=\"_parent\"><img src=\"https://colab.research.google.com/assets/colab-badge.svg\" alt=\"Open In Colab\"/></a>"
      ]
    },
    {
      "cell_type": "code",
      "metadata": {
        "id": "3HB1udzm3WaQ",
        "colab_type": "code",
        "colab": {}
      },
      "source": [
        "#for connecting to google drive\n",
        "!pip install -U -q PyDrive              \n",
        "\n",
        "from pydrive.auth import GoogleAuth\n",
        "from pydrive.drive import GoogleDrive\n",
        "from google.colab import auth\n",
        "from oauth2client.client import GoogleCredentials\n",
        "\n",
        "auth.authenticate_user()\n",
        "gauth = GoogleAuth()\n",
        "gauth.credentials = GoogleCredentials.get_application_default()\n",
        "drive = GoogleDrive(gauth)"
      ],
      "execution_count": 1,
      "outputs": []
    },
    {
      "cell_type": "code",
      "metadata": {
        "id": "j-aLPp3E3nI1",
        "colab_type": "code",
        "colab": {}
      },
      "source": [
        "#for accessing the data file through the google drive shareable link\n",
        "train=drive.CreateFile({'id':'1mN96UKMA2lcYq7vd5_MAPG9ybttjzIIM'})\n",
        "train.GetContentFile('train.tsv')"
      ],
      "execution_count": 2,
      "outputs": []
    }
  ]
}